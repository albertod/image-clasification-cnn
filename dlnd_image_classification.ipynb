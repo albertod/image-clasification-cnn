{
 "cells": [
  {
   "cell_type": "markdown",
   "metadata": {
    "collapsed": true
   },
   "source": [
    "# Image Classification\n",
    "In this project, you'll classify images from the [CIFAR-10 dataset](https://www.cs.toronto.edu/~kriz/cifar.html).  The dataset consists of airplanes, dogs, cats, and other objects. You'll preprocess the images, then train a convolutional neural network on all the samples. The images need to be normalized and the labels need to be one-hot encoded.  You'll get to apply what you learned and build a convolutional, max pooling, dropout, and fully connected layers.  At the end, you'll get to see your neural network's predictions on the sample images.\n",
    "## Get the Data\n",
    "Run the following cell to download the [CIFAR-10 dataset for python](https://www.cs.toronto.edu/~kriz/cifar-10-python.tar.gz)."
   ]
  },
  {
   "cell_type": "code",
   "execution_count": 1,
   "metadata": {},
   "outputs": [
    {
     "name": "stdout",
     "output_type": "stream",
     "text": [
      "All files found!\n"
     ]
    }
   ],
   "source": [
    "\"\"\"\n",
    "DON'T MODIFY ANYTHING IN THIS CELL THAT IS BELOW THIS LINE\n",
    "\"\"\"\n",
    "from urllib.request import urlretrieve\n",
    "from os.path import isfile, isdir\n",
    "from tqdm import tqdm\n",
    "import problem_unittests as tests\n",
    "import tarfile\n",
    "\n",
    "cifar10_dataset_folder_path = 'cifar-10-batches-py'\n",
    "\n",
    "# Use Floyd's cifar-10 dataset if present\n",
    "floyd_cifar10_location = '/input/cifar-10/python.tar.gz'\n",
    "if isfile(floyd_cifar10_location):\n",
    "    tar_gz_path = floyd_cifar10_location\n",
    "else:\n",
    "    tar_gz_path = 'cifar-10-python.tar.gz'\n",
    "\n",
    "class DLProgress(tqdm):\n",
    "    last_block = 0\n",
    "\n",
    "    def hook(self, block_num=1, block_size=1, total_size=None):\n",
    "        self.total = total_size\n",
    "        self.update((block_num - self.last_block) * block_size)\n",
    "        self.last_block = block_num\n",
    "\n",
    "if not isfile(tar_gz_path):\n",
    "    with DLProgress(unit='B', unit_scale=True, miniters=1, desc='CIFAR-10 Dataset') as pbar:\n",
    "        urlretrieve(\n",
    "            'https://www.cs.toronto.edu/~kriz/cifar-10-python.tar.gz',\n",
    "            tar_gz_path,\n",
    "            pbar.hook)\n",
    "\n",
    "if not isdir(cifar10_dataset_folder_path):\n",
    "    with tarfile.open(tar_gz_path) as tar:\n",
    "        tar.extractall()\n",
    "        tar.close()\n",
    "\n",
    "\n",
    "tests.test_folder_path(cifar10_dataset_folder_path)"
   ]
  },
  {
   "cell_type": "markdown",
   "metadata": {},
   "source": [
    "## Explore the Data\n",
    "The dataset is broken into batches to prevent your machine from running out of memory.  The CIFAR-10 dataset consists of 5 batches, named `data_batch_1`, `data_batch_2`, etc.. Each batch contains the labels and images that are one of the following:\n",
    "* airplane\n",
    "* automobile\n",
    "* bird\n",
    "* cat\n",
    "* deer\n",
    "* dog\n",
    "* frog\n",
    "* horse\n",
    "* ship\n",
    "* truck\n",
    "\n",
    "Understanding a dataset is part of making predictions on the data.  Play around with the code cell below by changing the `batch_id` and `sample_id`. The `batch_id` is the id for a batch (1-5). The `sample_id` is the id for a image and label pair in the batch.\n",
    "\n",
    "Ask yourself \"What are all possible labels?\", \"What is the range of values for the image data?\", \"Are the labels in order or random?\".  Answers to questions like these will help you preprocess the data and end up with better predictions."
   ]
  },
  {
   "cell_type": "code",
   "execution_count": 2,
   "metadata": {},
   "outputs": [
    {
     "name": "stdout",
     "output_type": "stream",
     "text": [
      "\n",
      "Stats of batch 1:\n",
      "Samples: 10000\n",
      "Label Counts: {0: 1005, 1: 974, 2: 1032, 3: 1016, 4: 999, 5: 937, 6: 1030, 7: 1001, 8: 1025, 9: 981}\n",
      "First 20 Labels: [6, 9, 9, 4, 1, 1, 2, 7, 8, 3, 4, 7, 7, 2, 9, 9, 9, 3, 2, 6]\n",
      "\n",
      "Example of Image 5:\n",
      "Image - Min Value: 0 Max Value: 252\n",
      "Image - Shape: (32, 32, 3)\n",
      "Label - Label Id: 1 Name: automobile\n"
     ]
    },
    {
     "data": {
      "image/png": "[encoded data removed]",
      "text/plain": [
       "<matplotlib.figure.Figure at 0x7ff318133c50>"
      ]
     },
     "metadata": {
      "image/png": {
       "height": 250,
       "width": 253
      }
     },
     "output_type": "display_data"
    }
   ],
   "source": [
    "%matplotlib inline\n",
    "%config InlineBackend.figure_format = 'retina'\n",
    "\n",
    "import helper\n",
    "import numpy as np\n",
    "from sklearn import preprocessing\n",
    "\n",
    "# Explore the dataset\n",
    "batch_id = 1\n",
    "sample_id = 5\n",
    "helper.display_stats(cifar10_dataset_folder_path, batch_id, sample_id)"
   ]
  },
  {
   "cell_type": "markdown",
   "metadata": {},
   "source": [
    "## Implement Preprocess Functions\n",
    "### Normalize\n",
    "In the cell below, implement the `normalize` function to take in image data, `x`, and return it as a normalized Numpy array. The values should be in the range of 0 to 1, inclusive.  The return object should be the same shape as `x`."
   ]
  },
  {
   "cell_type": "code",
   "execution_count": 3,
   "metadata": {},
   "outputs": [
    {
     "name": "stdout",
     "output_type": "stream",
     "text": [
      "Tests Passed\n"
     ]
    }
   ],
   "source": [
    "def normalize(x):\n",
    "    \"\"\"\n",
    "    Normalize a list of sample image data in the range of 0 to 1\n",
    "    : x: List of image data.  The image shape is (32, 32, 3)\n",
    "    : return: Numpy array of normalize data\n",
    "    \"\"\"\n",
    "    return np.array((x)/255)\n",
    "    \n",
    "    \n",
    "\n",
    "\n",
    "\"\"\"\n",
    "DON'T MODIFY ANYTHING IN THIS CELL THAT IS BELOW THIS LINE\n",
    "\"\"\"\n",
    "tests.test_normalize(normalize)"
   ]
  },
  {
   "cell_type": "markdown",
   "metadata": {},
   "source": [
    "### One-hot encode\n",
    "Just like the previous code cell, you'll be implementing a function for preprocessing.  This time, you'll implement the `one_hot_encode` function. The input, `x`, are a list of labels.  Implement the function to return the list of labels as One-Hot encoded Numpy array.  The possible values for labels are 0 to 9. The one-hot encoding function should return the same encoding for each value between each call to `one_hot_encode`.  Make sure to save the map of encodings outside the function.\n",
    "\n",
    "Hint: Don't reinvent the wheel."
   ]
  },
  {
   "cell_type": "code",
   "execution_count": 4,
   "metadata": {},
   "outputs": [
    {
     "name": "stdout",
     "output_type": "stream",
     "text": [
      "Tests Passed\n"
     ]
    }
   ],
   "source": [
    "def one_hot_encode(x):\n",
    "    \"\"\"\n",
    "    One hot encode a list of sample labels. Return a one-hot encoded vector for each label.\n",
    "    : x: List of sample Labels\n",
    "    : return: Numpy array of one-hot encoded labels\n",
    "    \"\"\"\n",
    "    label_list = []\n",
    "    for label in x:\n",
    "        label_list.append(np.eye(10)[label])\n",
    "    return np.array(label_list)\n",
    "\n",
    "\"\"\"\n",
    "DON'T MODIFY ANYTHING IN THIS CELL THAT IS BELOW THIS LINE\n",
    "\"\"\"\n",
    "tests.test_one_hot_encode(one_hot_encode)"
   ]
  },
  {
   "cell_type": "markdown",
   "metadata": {},
   "source": [
    "### Randomize Data\n",
    "As you saw from exploring the data above, the order of the samples are randomized.  It doesn't hurt to randomize it again, but you don't need to for this dataset."
   ]
  },
  {
   "cell_type": "markdown",
   "metadata": {},
   "source": [
    "## Preprocess all the data and save it\n",
    "Running the code cell below will preprocess all the CIFAR-10 data and save it to file. The code below also uses 10% of the training data for validation."
   ]
  },
  {
   "cell_type": "code",
   "execution_count": 5,
   "metadata": {
    "collapsed": true
   },
   "outputs": [],
   "source": [
    "\"\"\"\n",
    "DON'T MODIFY ANYTHING IN THIS CELL\n",
    "\"\"\"\n",
    "# Preprocess Training, Validation, and Testing Data\n",
    "helper.preprocess_and_save_data(cifar10_dataset_folder_path, normalize, one_hot_encode)"
   ]
  },
  {
   "cell_type": "markdown",
   "metadata": {},
   "source": [
    "# Check Point\n",
    "This is your first checkpoint.  If you ever decide to come back to this notebook or have to restart the notebook, you can start from here.  The preprocessed data has been saved to disk."
   ]
  },
  {
   "cell_type": "code",
   "execution_count": 6,
   "metadata": {
    "collapsed": true
   },
   "outputs": [],
   "source": [
    "\"\"\"\n",
    "DON'T MODIFY ANYTHING IN THIS CELL\n",
    "\"\"\"\n",
    "import pickle\n",
    "import problem_unittests as tests\n",
    "import helper\n",
    "\n",
    "# Load the Preprocessed Validation data\n",
    "valid_features, valid_labels = pickle.load(open('preprocess_validation.p', mode='rb'))"
   ]
  },
  {
   "cell_type": "markdown",
   "metadata": {},
   "source": [
    "## Build the network\n",
    "For the neural network, you'll build each layer into a function.  Most of the code you've seen has been outside of functions. To test your code more thoroughly, we require that you put each layer in a function.  This allows us to give you better feedback and test for simple mistakes using our unittests before you submit your project.\n",
    "\n",
    ">**Note:** If you're finding it hard to dedicate enough time for this course each week, we've provided a small shortcut to this part of the project. In the next couple of problems, you'll have the option to use classes from the [TensorFlow Layers](https://www.tensorflow.org/api_docs/python/tf/layers) or [TensorFlow Layers (contrib)](https://www.tensorflow.org/api_guides/python/contrib.layers) packages to build each layer, except the layers you build in the \"Convolutional and Max Pooling Layer\" section.  TF Layers is similar to Keras's and TFLearn's abstraction to layers, so it's easy to pickup.\n",
    "\n",
    ">However, if you would like to get the most out of this course, try to solve all the problems _without_ using anything from the TF Layers packages. You **can** still use classes from other packages that happen to have the same name as ones you find in TF Layers! For example, instead of using the TF Layers version of the `conv2d` class, [tf.layers.conv2d](https://www.tensorflow.org/api_docs/python/tf/layers/conv2d), you would want to use the TF Neural Network version of `conv2d`, [tf.nn.conv2d](https://www.tensorflow.org/api_docs/python/tf/nn/conv2d). \n",
    "\n",
    "Let's begin!\n",
    "\n",
    "### Input\n",
    "The neural network needs to read the image data, one-hot encoded labels, and dropout keep probability. Implement the following functions\n",
    "* Implement `neural_net_image_input`\n",
    " * Return a [TF Placeholder](https://www.tensorflow.org/api_docs/python/tf/placeholder)\n",
    " * Set the shape using `image_shape` with batch size set to `None`.\n",
    " * Name the TensorFlow placeholder \"x\" using the TensorFlow `name` parameter in the [TF Placeholder](https://www.tensorflow.org/api_docs/python/tf/placeholder).\n",
    "* Implement `neural_net_label_input`\n",
    " * Return a [TF Placeholder](https://www.tensorflow.org/api_docs/python/tf/placeholder)\n",
    " * Set the shape using `n_classes` with batch size set to `None`.\n",
    " * Name the TensorFlow placeholder \"y\" using the TensorFlow `name` parameter in the [TF Placeholder](https://www.tensorflow.org/api_docs/python/tf/placeholder).\n",
    "* Implement `neural_net_keep_prob_input`\n",
    " * Return a [TF Placeholder](https://www.tensorflow.org/api_docs/python/tf/placeholder) for dropout keep probability.\n",
    " * Name the TensorFlow placeholder \"keep_prob\" using the TensorFlow `name` parameter in the [TF Placeholder](https://www.tensorflow.org/api_docs/python/tf/placeholder).\n",
    "\n",
    "These names will be used at the end of the project to load your saved model.\n",
    "\n",
    "Note: `None` for shapes in TensorFlow allow for a dynamic size."
   ]
  },
  {
   "cell_type": "code",
   "execution_count": 7,
   "metadata": {},
   "outputs": [
    {
     "name": "stdout",
     "output_type": "stream",
     "text": [
      "Image Input Tests Passed.\n",
      "Label Input Tests Passed.\n",
      "Keep Prob Tests Passed.\n"
     ]
    }
   ],
   "source": [
    "import tensorflow as tf\n",
    "\n",
    "def neural_net_image_input(image_shape):\n",
    "    \"\"\"\n",
    "    Return a Tensor for a batch of image input\n",
    "    : image_shape: Shape of the images\n",
    "    : return: Tensor for image input.\n",
    "    \"\"\"\n",
    "    return tf.placeholder(tf.float32, shape=[None, image_shape[0], image_shape[1], image_shape[2]], name=\"x\")\n",
    "\n",
    "\n",
    "def neural_net_label_input(n_classes):\n",
    "    \"\"\"\n",
    "    Return a Tensor for a batch of label input\n",
    "    : n_classes: Number of classes\n",
    "    : return: Tensor for label input.\n",
    "    \"\"\"\n",
    "    return tf.placeholder(tf.float32, shape=[None, n_classes], name=\"y\")\n",
    "\n",
    "\n",
    "def neural_net_keep_prob_input():\n",
    "    \"\"\"\n",
    "    Return a Tensor for keep probability\n",
    "    : return: Tensor for keep probability.\n",
    "    \"\"\"\n",
    "    return tf.placeholder(tf.float32, name=\"keep_prob\")\n",
    "\n",
    "\n",
    "\"\"\"\n",
    "DON'T MODIFY ANYTHING IN THIS CELL THAT IS BELOW THIS LINE\n",
    "\"\"\"\n",
    "tf.reset_default_graph()\n",
    "tests.test_nn_image_inputs(neural_net_image_input)\n",
    "tests.test_nn_label_inputs(neural_net_label_input)\n",
    "tests.test_nn_keep_prob_inputs(neural_net_keep_prob_input)"
   ]
  },
  {
   "cell_type": "markdown",
   "metadata": {},
   "source": [
    "### Convolution and Max Pooling Layer\n",
    "Convolution layers have a lot of success with images. For this code cell, you should implement the function `conv2d_maxpool` to apply convolution then max pooling:\n",
    "* Create the weight and bias using `conv_ksize`, `conv_num_outputs` and the shape of `x_tensor`.\n",
    "* Apply a convolution to `x_tensor` using weight and `conv_strides`.\n",
    " * We recommend you use same padding, but you're welcome to use any padding.\n",
    "* Add bias\n",
    "* Add a nonlinear activation to the convolution.\n",
    "* Apply Max Pooling using `pool_ksize` and `pool_strides`.\n",
    " * We recommend you use same padding, but you're welcome to use any padding.\n",
    "\n",
    "**Note:** You **can't** use [TensorFlow Layers](https://www.tensorflow.org/api_docs/python/tf/layers) or [TensorFlow Layers (contrib)](https://www.tensorflow.org/api_guides/python/contrib.layers) for **this** layer, but you can still use TensorFlow's [Neural Network](https://www.tensorflow.org/api_docs/python/tf/nn) package. You may still use the shortcut option for all the **other** layers."
   ]
  },
  {
   "cell_type": "code",
   "execution_count": 8,
   "metadata": {},
   "outputs": [
    {
     "name": "stdout",
     "output_type": "stream",
     "text": [
      "Tests Passed\n"
     ]
    }
   ],
   "source": [
    "def conv2d_maxpool(x_tensor, conv_num_outputs, conv_ksize, conv_strides, pool_ksize, pool_strides):\n",
    "    \"\"\"\n",
    "    Apply convolution then max pooling to x_tensor\n",
    "    :param x_tensor: TensorFlow Tensor\n",
    "    :param conv_num_outputs: Number of outputs for the convolutional layer\n",
    "    :param conv_ksize: kernal size 2-D Tuple for the convolutional layer\n",
    "    :param conv_strides: Stride 2-D Tuple for convolution\n",
    "    :param pool_ksize: kernal size 2-D Tuple for pool\n",
    "    :param pool_strides: Stride 2-D Tuple for pool\n",
    "    : return: A tensor that represents convolution and max pooling of x_tensor\n",
    "    \"\"\"\n",
    "    weights = tf.Variable(tf.random_normal([conv_ksize[0], conv_ksize[1], x_tensor.get_shape().as_list()[-1], conv_num_outputs], stddev=0.1))\n",
    "    bias = tf.Variable(tf.zeros([conv_num_outputs]))\n",
    "    \n",
    "    conv_layer = tf.nn.conv2d(x_tensor, \n",
    "                              weights, \n",
    "                              strides=[1, conv_strides[0], conv_strides[1], 1],\n",
    "                              padding='SAME')\n",
    "    # Bias\n",
    "    conv_layer = tf.nn.bias_add(conv_layer, bias)\n",
    "    # Activation function\n",
    "    conv_layer = tf.nn.relu(conv_layer)\n",
    "    # Max pooling\n",
    "    conv_layer = tf.nn.max_pool(conv_layer, \n",
    "                                [1, pool_ksize[0], pool_ksize[1], 1],\n",
    "                                [1, pool_strides[0], pool_strides[1], 1],\n",
    "                                'SAME')\n",
    "    return conv_layer\n",
    "\n",
    "\n",
    "\"\"\"\n",
    "DON'T MODIFY ANYTHING IN THIS CELL THAT IS BELOW THIS LINE\n",
    "\"\"\"\n",
    "tests.test_con_pool(conv2d_maxpool)"
   ]
  },
  {
   "cell_type": "markdown",
   "metadata": {},
   "source": [
    "### Flatten Layer\n",
    "Implement the `flatten` function to change the dimension of `x_tensor` from a 4-D tensor to a 2-D tensor.  The output should be the shape (*Batch Size*, *Flattened Image Size*). Shortcut option: you can use classes from the [TensorFlow Layers](https://www.tensorflow.org/api_docs/python/tf/layers) or [TensorFlow Layers (contrib)](https://www.tensorflow.org/api_guides/python/contrib.layers) packages for this layer. For more of a challenge, only use other TensorFlow packages."
   ]
  },
  {
   "cell_type": "code",
   "execution_count": 9,
   "metadata": {},
   "outputs": [
    {
     "name": "stdout",
     "output_type": "stream",
     "text": [
      "Tests Passed\n"
     ]
    }
   ],
   "source": [
    "def flatten(x_tensor):\n",
    "    \"\"\"\n",
    "    Flatten x_tensor to (Batch Size, Flattened Image Size)\n",
    "    : x_tensor: A tensor of size (Batch Size, ...), where ... are the image dimensions.\n",
    "    : return: A tensor of size (Batch Size, Flattened Image Size).\n",
    "    \"\"\"\n",
    "    # TODO: Implement Function\n",
    "    return tf.contrib.layers.flatten(x_tensor)\n",
    "\n",
    "\"\"\"\n",
    "DON'T MODIFY ANYTHING IN THIS CELL THAT IS BELOW THIS LINE\n",
    "\"\"\"\n",
    "tests.test_flatten(flatten)"
   ]
  },
  {
   "cell_type": "markdown",
   "metadata": {},
   "source": [
    "### Fully-Connected Layer\n",
    "Implement the `fully_conn` function to apply a fully connected layer to `x_tensor` with the shape (*Batch Size*, *num_outputs*). Shortcut option: you can use classes from the [TensorFlow Layers](https://www.tensorflow.org/api_docs/python/tf/layers) or [TensorFlow Layers (contrib)](https://www.tensorflow.org/api_guides/python/contrib.layers) packages for this layer. For more of a challenge, only use other TensorFlow packages."
   ]
  },
  {
   "cell_type": "code",
   "execution_count": 10,
   "metadata": {},
   "outputs": [
    {
     "name": "stdout",
     "output_type": "stream",
     "text": [
      "Tests Passed\n"
     ]
    }
   ],
   "source": [
    "def fully_conn(x_tensor, num_outputs):\n",
    "    \"\"\"\n",
    "    Apply a fully connected layer to x_tensor using weight and bias\n",
    "    : x_tensor: A 2-D tensor where the first dimension is batch size.\n",
    "    : num_outputs: The number of output that the new tensor should be.\n",
    "    : return: A 2-D tensor where the second dimension is num_outputs.\n",
    "    \"\"\"\n",
    "    # TODO: Implement Function\n",
    "    return tf.contrib.layers.fully_connected(x_tensor, num_outputs, activation_fn=tf.nn.relu)\n",
    "\n",
    "\n",
    "\"\"\"\n",
    "DON'T MODIFY ANYTHING IN THIS CELL THAT IS BELOW THIS LINE\n",
    "\"\"\"\n",
    "tests.test_fully_conn(fully_conn)"
   ]
  },
  {
   "cell_type": "markdown",
   "metadata": {},
   "source": [
    "### Output Layer\n",
    "Implement the `output` function to apply a fully connected layer to `x_tensor` with the shape (*Batch Size*, *num_outputs*). Shortcut option: you can use classes from the [TensorFlow Layers](https://www.tensorflow.org/api_docs/python/tf/layers) or [TensorFlow Layers (contrib)](https://www.tensorflow.org/api_guides/python/contrib.layers) packages for this layer. For more of a challenge, only use other TensorFlow packages.\n",
    "\n",
    "**Note:** Activation, softmax, or cross entropy should **not** be applied to this."
   ]
  },
  {
   "cell_type": "code",
   "execution_count": 11,
   "metadata": {},
   "outputs": [
    {
     "name": "stdout",
     "output_type": "stream",
     "text": [
      "Tests Passed\n"
     ]
    }
   ],
   "source": [
    "def output(x_tensor, num_outputs):\n",
    "    \"\"\"\n",
    "    Apply a output layer to x_tensor using weight and bias\n",
    "    : x_tensor: A 2-D tensor where the first dimension is batch size.\n",
    "    : num_outputs: The number of output that the new tensor should be.\n",
    "    : return: A 2-D tensor where the second dimension is num_outputs.\n",
    "    \"\"\"\n",
    "    # TODO: Implement Function\n",
    "    return tf.contrib.layers.fully_connected(x_tensor, num_outputs, activation_fn=None)\n",
    "\n",
    "\n",
    "\"\"\"\n",
    "DON'T MODIFY ANYTHING IN THIS CELL THAT IS BELOW THIS LINE\n",
    "\"\"\"\n",
    "tests.test_output(output)"
   ]
  },
  {
   "cell_type": "markdown",
   "metadata": {},
   "source": [
    "### Create Convolutional Model\n",
    "Implement the function `conv_net` to create a convolutional neural network model. The function takes in a batch of images, `x`, and outputs logits.  Use the layers you created above to create this model:\n",
    "\n",
    "* Apply 1, 2, or 3 Convolution and Max Pool layers\n",
    "* Apply a Flatten Layer\n",
    "* Apply 1, 2, or 3 Fully Connected Layers\n",
    "* Apply an Output Layer\n",
    "* Return the output\n",
    "* Apply [TensorFlow's Dropout](https://www.tensorflow.org/api_docs/python/tf/nn/dropout) to one or more layers in the model using `keep_prob`. "
   ]
  },
  {
   "cell_type": "code",
   "execution_count": 12,
   "metadata": {},
   "outputs": [
    {
     "name": "stdout",
     "output_type": "stream",
     "text": [
      "Neural Network Built!\n"
     ]
    }
   ],
   "source": [
    "def conv_net(x, keep_prob):\n",
    "    \"\"\"\n",
    "    Create a convolutional neural network model\n",
    "    : x: Placeholder tensor that holds image data.\n",
    "    : keep_prob: Placeholder tensor that hold dropout keep probability.\n",
    "    : return: Tensor that represents logits\n",
    "    \"\"\"\n",
    "    #    conv2d_maxpool(x_tensor, conv_num_outputs, conv_ksize, conv_strides, pool_ksize, pool_strides)\n",
    "    \n",
    "    conv_strides = (1, 1)\n",
    "    pool_strides = (1, 1)\n",
    "    \n",
    "    # 1-convnet, max pool\n",
    "    conv_ksize = (4, 4)\n",
    "    pool_ksize = (4, 4)\n",
    "    conv2 = conv2d_maxpool(x, 32, conv_ksize, conv_strides, pool_ksize, pool_strides)\n",
    "\n",
    "    # 2-convnet, max pool\n",
    "    conv_ksize = (8, 8)\n",
    "    pool_ksize = (8, 8)\n",
    "    conv2 = conv2d_maxpool(conv2, 64, conv_ksize, conv_strides, pool_ksize, pool_strides)\n",
    "    \n",
    "    # Flatten from 4-D to 2-D\n",
    "    conv2 = flatten(conv2)\n",
    "    \n",
    "    # 1-Fully connected and dropout, output = 100\n",
    "    conv2 = fully_conn(conv2, 100)\n",
    "    conv2 = tf.nn.dropout(conv2, keep_prob)\n",
    "    \n",
    "    outp = output(conv2, 10)\n",
    "    return outp\n",
    "\n",
    "\"\"\"\n",
    "DON'T MODIFY ANYTHING IN THIS CELL THAT IS BELOW THIS LINE\n",
    "\"\"\"\n",
    "\n",
    "##############################\n",
    "## Build the Neural Network ##\n",
    "##############################\n",
    "\n",
    "# Remove previous weights, bias, inputs, etc..\n",
    "tf.reset_default_graph()\n",
    "\n",
    "# Inputs\n",
    "x = neural_net_image_input((32, 32, 3))\n",
    "y = neural_net_label_input(10)\n",
    "keep_prob = neural_net_keep_prob_input()\n",
    "\n",
    "# Model\n",
    "logits = conv_net(x, keep_prob)\n",
    "\n",
    "# Name logits Tensor, so that is can be loaded from disk after training\n",
    "logits = tf.identity(logits, name='logits')\n",
    "\n",
    "# Loss and Optimizer\n",
    "cost = tf.reduce_mean(tf.nn.softmax_cross_entropy_with_logits(logits=logits, labels=y))\n",
    "optimizer = tf.train.AdamOptimizer().minimize(cost)\n",
    "\n",
    "# Accuracy\n",
    "correct_pred = tf.equal(tf.argmax(logits, 1), tf.argmax(y, 1))\n",
    "accuracy = tf.reduce_mean(tf.cast(correct_pred, tf.float32), name='accuracy')\n",
    "\n",
    "tests.test_conv_net(conv_net)"
   ]
  },
  {
   "cell_type": "markdown",
   "metadata": {},
   "source": [
    "## Train the Neural Network\n",
    "### Single Optimization\n",
    "Implement the function `train_neural_network` to do a single optimization.  The optimization should use `optimizer` to optimize in `session` with a `feed_dict` of the following:\n",
    "* `x` for image input\n",
    "* `y` for labels\n",
    "* `keep_prob` for keep probability for dropout\n",
    "\n",
    "This function will be called for each batch, so `tf.global_variables_initializer()` has already been called.\n",
    "\n",
    "Note: Nothing needs to be returned. This function is only optimizing the neural network."
   ]
  },
  {
   "cell_type": "code",
   "execution_count": 13,
   "metadata": {},
   "outputs": [
    {
     "name": "stdout",
     "output_type": "stream",
     "text": [
      "Tests Passed\n"
     ]
    }
   ],
   "source": [
    "def train_neural_network(session, optimizer, keep_probability, feature_batch, label_batch):\n",
    "    \"\"\"\n",
    "    Optimize the session on a batch of images and labels\n",
    "    : session: Current TensorFlow session\n",
    "    : optimizer: TensorFlow optimizer function\n",
    "    : keep_probability: keep probability\n",
    "    : feature_batch: Batch of Numpy image data\n",
    "    : label_batch: Batch of Numpy label data\n",
    "    \"\"\"\n",
    "    session.run(optimizer, feed_dict={\n",
    "        x: feature_batch,\n",
    "        y: label_batch,\n",
    "        keep_prob: keep_probability\n",
    "    })\n",
    "    pass\n",
    "\n",
    "\n",
    "\"\"\"\n",
    "DON'T MODIFY ANYTHING IN THIS CELL THAT IS BELOW THIS LINE\n",
    "\"\"\"\n",
    "tests.test_train_nn(train_neural_network)"
   ]
  },
  {
   "cell_type": "markdown",
   "metadata": {},
   "source": [
    "### Show Stats\n",
    "Implement the function `print_stats` to print loss and validation accuracy.  Use the global variables `valid_features` and `valid_labels` to calculate validation accuracy.  Use a keep probability of `1.0` to calculate the loss and validation accuracy."
   ]
  },
  {
   "cell_type": "code",
   "execution_count": 14,
   "metadata": {
    "collapsed": true
   },
   "outputs": [],
   "source": [
    "def print_stats(session, feature_batch, label_batch, cost, accuracy):\n",
    "    \"\"\"\n",
    "    Print information about loss and validation accuracy\n",
    "    : session: Current TensorFlow session\n",
    "    : feature_batch: Batch of Numpy image data\n",
    "    : label_batch: Batch of Numpy label data\n",
    "    : cost: TensorFlow cost function\n",
    "    : accuracy: TensorFlow accuracy function\n",
    "    \"\"\"\n",
    "    loss = session.run(cost, feed_dict={x: feature_batch, y: label_batch, keep_prob: 1.0})\n",
    "    valid_acc = session.run(accuracy, feed_dict={x: valid_features, y: valid_labels, keep_prob: 1.0})\n",
    "    print('Loss: {:>10.4f} Accuracy: {:.6f}'.format(loss,valid_acc))\n",
    "    pass"
   ]
  },
  {
   "cell_type": "markdown",
   "metadata": {},
   "source": [
    "### Hyperparameters\n",
    "Tune the following parameters:\n",
    "* Set `epochs` to the number of iterations until the network stops learning or start overfitting\n",
    "* Set `batch_size` to the highest number that your machine has memory for.  Most people set them to common sizes of memory:\n",
    " * 64\n",
    " * 128\n",
    " * 256\n",
    " * ...\n",
    "* Set `keep_probability` to the probability of keeping a node using dropout"
   ]
  },
  {
   "cell_type": "code",
   "execution_count": 17,
   "metadata": {
    "collapsed": true
   },
   "outputs": [],
   "source": [
    "epochs = 50\n",
    "batch_size = 512\n",
    "keep_probability = 0.75"
   ]
  },
  {
   "cell_type": "markdown",
   "metadata": {},
   "source": [
    "### Train on a Single CIFAR-10 Batch\n",
    "Instead of training the neural network on all the CIFAR-10 batches of data, let's use a single batch. This should save time while you iterate on the model to get a better accuracy.  Once the final validation accuracy is 50% or greater, run the model on all the data in the next section."
   ]
  },
  {
   "cell_type": "code",
   "execution_count": 18,
   "metadata": {},
   "outputs": [
    {
     "name": "stdout",
     "output_type": "stream",
     "text": [
      "Checking the Training on a Single Batch...\n",
      "Epoch  1, CIFAR-10 Batch 1:  Loss:     2.2444 Accuracy: 0.142800\n",
      "Epoch  2, CIFAR-10 Batch 1:  Loss:     1.9937 Accuracy: 0.277000\n",
      "Epoch  3, CIFAR-10 Batch 1:  Loss:     1.8317 Accuracy: 0.328200\n",
      "Epoch  4, CIFAR-10 Batch 1:  Loss:     1.6977 Accuracy: 0.385000\n",
      "Epoch  5, CIFAR-10 Batch 1:  Loss:     1.6175 Accuracy: 0.402600\n",
      "Epoch  6, CIFAR-10 Batch 1:  Loss:     1.5565 Accuracy: 0.408400\n",
      "Epoch  7, CIFAR-10 Batch 1:  Loss:     1.4825 Accuracy: 0.415000\n",
      "Epoch  8, CIFAR-10 Batch 1:  Loss:     1.4243 Accuracy: 0.423000\n",
      "Epoch  9, CIFAR-10 Batch 1:  Loss:     1.3801 Accuracy: 0.429600\n",
      "Epoch 10, CIFAR-10 Batch 1:  Loss:     1.3194 Accuracy: 0.437000\n",
      "Epoch 11, CIFAR-10 Batch 1:  Loss:     1.3024 Accuracy: 0.437000\n",
      "Epoch 12, CIFAR-10 Batch 1:  Loss:     1.2749 Accuracy: 0.457000\n",
      "Epoch 13, CIFAR-10 Batch 1:  Loss:     1.2375 Accuracy: 0.464000\n",
      "Epoch 14, CIFAR-10 Batch 1:  Loss:     1.1874 Accuracy: 0.470800\n",
      "Epoch 15, CIFAR-10 Batch 1:  Loss:     1.1633 Accuracy: 0.475200\n",
      "Epoch 16, CIFAR-10 Batch 1:  Loss:     1.1444 Accuracy: 0.468400\n",
      "Epoch 17, CIFAR-10 Batch 1:  Loss:     1.0971 Accuracy: 0.479400\n",
      "Epoch 18, CIFAR-10 Batch 1:  Loss:     1.0828 Accuracy: 0.478400\n",
      "Epoch 19, CIFAR-10 Batch 1:  Loss:     1.0372 Accuracy: 0.482400\n",
      "Epoch 20, CIFAR-10 Batch 1:  Loss:     1.0048 Accuracy: 0.490400\n",
      "Epoch 21, CIFAR-10 Batch 1:  Loss:     0.9704 Accuracy: 0.493600\n",
      "Epoch 22, CIFAR-10 Batch 1:  Loss:     0.9319 Accuracy: 0.499000\n",
      "Epoch 23, CIFAR-10 Batch 1:  Loss:     0.9325 Accuracy: 0.499600\n",
      "Epoch 24, CIFAR-10 Batch 1:  Loss:     0.9079 Accuracy: 0.497800\n",
      "Epoch 25, CIFAR-10 Batch 1:  Loss:     0.9079 Accuracy: 0.496000\n",
      "Epoch 26, CIFAR-10 Batch 1:  Loss:     0.8877 Accuracy: 0.504400\n",
      "Epoch 27, CIFAR-10 Batch 1:  Loss:     0.8644 Accuracy: 0.500400\n",
      "Epoch 28, CIFAR-10 Batch 1:  Loss:     0.8290 Accuracy: 0.504200\n",
      "Epoch 29, CIFAR-10 Batch 1:  Loss:     0.8454 Accuracy: 0.494800\n",
      "Epoch 30, CIFAR-10 Batch 1:  Loss:     0.8220 Accuracy: 0.474800\n",
      "Epoch 31, CIFAR-10 Batch 1:  Loss:     0.8036 Accuracy: 0.500600\n",
      "Epoch 32, CIFAR-10 Batch 1:  Loss:     0.7846 Accuracy: 0.500800\n",
      "Epoch 33, CIFAR-10 Batch 1:  Loss:     0.8097 Accuracy: 0.484800\n",
      "Epoch 34, CIFAR-10 Batch 1:  Loss:     0.8179 Accuracy: 0.485600\n",
      "Epoch 35, CIFAR-10 Batch 1:  Loss:     0.8006 Accuracy: 0.491200\n",
      "Epoch 36, CIFAR-10 Batch 1:  Loss:     0.7330 Accuracy: 0.504400\n",
      "Epoch 37, CIFAR-10 Batch 1:  Loss:     0.7245 Accuracy: 0.504800\n",
      "Epoch 38, CIFAR-10 Batch 1:  Loss:     0.7490 Accuracy: 0.493000\n",
      "Epoch 39, CIFAR-10 Batch 1:  Loss:     0.7540 Accuracy: 0.483400\n",
      "Epoch 40, CIFAR-10 Batch 1:  Loss:     0.6985 Accuracy: 0.505000\n",
      "Epoch 41, CIFAR-10 Batch 1:  Loss:     0.6750 Accuracy: 0.501400\n",
      "Epoch 42, CIFAR-10 Batch 1:  Loss:     0.6395 Accuracy: 0.505600\n",
      "Epoch 43, CIFAR-10 Batch 1:  Loss:     0.6224 Accuracy: 0.507800\n",
      "Epoch 44, CIFAR-10 Batch 1:  Loss:     0.6267 Accuracy: 0.496400\n",
      "Epoch 45, CIFAR-10 Batch 1:  Loss:     0.6069 Accuracy: 0.499200\n",
      "Epoch 46, CIFAR-10 Batch 1:  Loss:     0.6100 Accuracy: 0.501400\n",
      "Epoch 47, CIFAR-10 Batch 1:  Loss:     0.6074 Accuracy: 0.499000\n",
      "Epoch 48, CIFAR-10 Batch 1:  Loss:     0.5843 Accuracy: 0.491000\n",
      "Epoch 49, CIFAR-10 Batch 1:  Loss:     0.5554 Accuracy: 0.505800\n",
      "Epoch 50, CIFAR-10 Batch 1:  Loss:     0.5381 Accuracy: 0.507800\n"
     ]
    }
   ],
   "source": [
    "\"\"\"\n",
    "DON'T MODIFY ANYTHING IN THIS CELL\n",
    "\"\"\"\n",
    "print('Checking the Training on a Single Batch...')\n",
    "with tf.Session() as sess:\n",
    "    # Initializing the variables\n",
    "    sess.run(tf.global_variables_initializer())\n",
    "    \n",
    "    # Training cycle\n",
    "    for epoch in range(epochs):\n",
    "        batch_i = 1\n",
    "        for batch_features, batch_labels in helper.load_preprocess_training_batch(batch_i, batch_size):\n",
    "            train_neural_network(sess, optimizer, keep_probability, batch_features, batch_labels)\n",
    "        print('Epoch {:>2}, CIFAR-10 Batch {}:  '.format(epoch + 1, batch_i), end='')\n",
    "        print_stats(sess, batch_features, batch_labels, cost, accuracy)"
   ]
  },
  {
   "cell_type": "markdown",
   "metadata": {},
   "source": [
    "### Fully Train the Model\n",
    "Now that you got a good accuracy with a single CIFAR-10 batch, try it with all five batches."
   ]
  },
  {
   "cell_type": "code",
   "execution_count": 19,
   "metadata": {},
   "outputs": [
    {
     "name": "stdout",
     "output_type": "stream",
     "text": [
      "Training...\n",
      "Epoch  1, CIFAR-10 Batch 1:  Loss:     2.3009 Accuracy: 0.127800\n",
      "Epoch  1, CIFAR-10 Batch 2:  Loss:     2.2935 Accuracy: 0.094600\n",
      "Epoch  1, CIFAR-10 Batch 3:  Loss:     2.2616 Accuracy: 0.106800\n",
      "Epoch  1, CIFAR-10 Batch 4:  Loss:     2.1985 Accuracy: 0.168000\n",
      "Epoch  1, CIFAR-10 Batch 5:  Loss:     2.1058 Accuracy: 0.221600\n",
      "Epoch  2, CIFAR-10 Batch 1:  Loss:     1.9802 Accuracy: 0.290400\n",
      "Epoch  2, CIFAR-10 Batch 2:  Loss:     1.8362 Accuracy: 0.313200\n",
      "Epoch  2, CIFAR-10 Batch 3:  Loss:     1.7879 Accuracy: 0.333200\n",
      "Epoch  2, CIFAR-10 Batch 4:  Loss:     1.7315 Accuracy: 0.335400\n",
      "Epoch  2, CIFAR-10 Batch 5:  Loss:     1.7833 Accuracy: 0.353800\n",
      "Epoch  3, CIFAR-10 Batch 1:  Loss:     1.7092 Accuracy: 0.405400\n",
      "Epoch  3, CIFAR-10 Batch 2:  Loss:     1.6317 Accuracy: 0.409600\n",
      "Epoch  3, CIFAR-10 Batch 3:  Loss:     1.5214 Accuracy: 0.423800\n",
      "Epoch  3, CIFAR-10 Batch 4:  Loss:     1.4442 Accuracy: 0.435400\n",
      "Epoch  3, CIFAR-10 Batch 5:  Loss:     1.5596 Accuracy: 0.427200\n",
      "Epoch  4, CIFAR-10 Batch 1:  Loss:     1.5433 Accuracy: 0.459600\n",
      "Epoch  4, CIFAR-10 Batch 2:  Loss:     1.4960 Accuracy: 0.455200\n",
      "Epoch  4, CIFAR-10 Batch 3:  Loss:     1.4135 Accuracy: 0.457200\n",
      "Epoch  4, CIFAR-10 Batch 4:  Loss:     1.3082 Accuracy: 0.461800\n",
      "Epoch  4, CIFAR-10 Batch 5:  Loss:     1.4539 Accuracy: 0.466600\n",
      "Epoch  5, CIFAR-10 Batch 1:  Loss:     1.4836 Accuracy: 0.481000\n",
      "Epoch  5, CIFAR-10 Batch 2:  Loss:     1.4278 Accuracy: 0.467400\n",
      "Epoch  5, CIFAR-10 Batch 3:  Loss:     1.3531 Accuracy: 0.485000\n",
      "Epoch  5, CIFAR-10 Batch 4:  Loss:     1.2296 Accuracy: 0.483000\n",
      "Epoch  5, CIFAR-10 Batch 5:  Loss:     1.3756 Accuracy: 0.488000\n",
      "Epoch  6, CIFAR-10 Batch 1:  Loss:     1.4043 Accuracy: 0.491600\n",
      "Epoch  6, CIFAR-10 Batch 2:  Loss:     1.3791 Accuracy: 0.477000\n",
      "Epoch  6, CIFAR-10 Batch 3:  Loss:     1.2525 Accuracy: 0.501200\n",
      "Epoch  6, CIFAR-10 Batch 4:  Loss:     1.2105 Accuracy: 0.487800\n",
      "Epoch  6, CIFAR-10 Batch 5:  Loss:     1.3341 Accuracy: 0.489800\n",
      "Epoch  7, CIFAR-10 Batch 1:  Loss:     1.3471 Accuracy: 0.510600\n",
      "Epoch  7, CIFAR-10 Batch 2:  Loss:     1.2628 Accuracy: 0.506000\n",
      "Epoch  7, CIFAR-10 Batch 3:  Loss:     1.1991 Accuracy: 0.514200\n",
      "Epoch  7, CIFAR-10 Batch 4:  Loss:     1.1423 Accuracy: 0.511000\n",
      "Epoch  7, CIFAR-10 Batch 5:  Loss:     1.2405 Accuracy: 0.513800\n",
      "Epoch  8, CIFAR-10 Batch 1:  Loss:     1.3639 Accuracy: 0.503400\n",
      "Epoch  8, CIFAR-10 Batch 2:  Loss:     1.1959 Accuracy: 0.510800\n",
      "Epoch  8, CIFAR-10 Batch 3:  Loss:     1.1449 Accuracy: 0.518800\n",
      "Epoch  8, CIFAR-10 Batch 4:  Loss:     1.0975 Accuracy: 0.513200\n",
      "Epoch  8, CIFAR-10 Batch 5:  Loss:     1.1944 Accuracy: 0.518000\n",
      "Epoch  9, CIFAR-10 Batch 1:  Loss:     1.2500 Accuracy: 0.524800\n",
      "Epoch  9, CIFAR-10 Batch 2:  Loss:     1.1756 Accuracy: 0.518000\n",
      "Epoch  9, CIFAR-10 Batch 3:  Loss:     1.1302 Accuracy: 0.540200\n",
      "Epoch  9, CIFAR-10 Batch 4:  Loss:     1.0952 Accuracy: 0.532600\n",
      "Epoch  9, CIFAR-10 Batch 5:  Loss:     1.1534 Accuracy: 0.535400\n",
      "Epoch 10, CIFAR-10 Batch 1:  Loss:     1.2255 Accuracy: 0.545000\n",
      "Epoch 10, CIFAR-10 Batch 2:  Loss:     1.1248 Accuracy: 0.536800\n",
      "Epoch 10, CIFAR-10 Batch 3:  Loss:     1.1156 Accuracy: 0.536800\n",
      "Epoch 10, CIFAR-10 Batch 4:  Loss:     1.0537 Accuracy: 0.542200\n",
      "Epoch 10, CIFAR-10 Batch 5:  Loss:     1.1209 Accuracy: 0.545200\n",
      "Epoch 11, CIFAR-10 Batch 1:  Loss:     1.1588 Accuracy: 0.550600\n",
      "Epoch 11, CIFAR-10 Batch 2:  Loss:     1.0873 Accuracy: 0.541000\n",
      "Epoch 11, CIFAR-10 Batch 3:  Loss:     1.0570 Accuracy: 0.548200\n",
      "Epoch 11, CIFAR-10 Batch 4:  Loss:     1.0532 Accuracy: 0.545600\n",
      "Epoch 11, CIFAR-10 Batch 5:  Loss:     1.0760 Accuracy: 0.560400\n",
      "Epoch 12, CIFAR-10 Batch 1:  Loss:     1.1360 Accuracy: 0.551600\n",
      "Epoch 12, CIFAR-10 Batch 2:  Loss:     1.0679 Accuracy: 0.553800\n",
      "Epoch 12, CIFAR-10 Batch 3:  Loss:     1.0433 Accuracy: 0.547200\n",
      "Epoch 12, CIFAR-10 Batch 4:  Loss:     1.0282 Accuracy: 0.546600\n",
      "Epoch 12, CIFAR-10 Batch 5:  Loss:     1.0593 Accuracy: 0.553000\n",
      "Epoch 13, CIFAR-10 Batch 1:  Loss:     1.0795 Accuracy: 0.562200\n",
      "Epoch 13, CIFAR-10 Batch 2:  Loss:     1.0364 Accuracy: 0.558200\n",
      "Epoch 13, CIFAR-10 Batch 3:  Loss:     1.0291 Accuracy: 0.552000\n",
      "Epoch 13, CIFAR-10 Batch 4:  Loss:     1.0100 Accuracy: 0.560600\n",
      "Epoch 13, CIFAR-10 Batch 5:  Loss:     1.0404 Accuracy: 0.565600\n",
      "Epoch 14, CIFAR-10 Batch 1:  Loss:     1.0814 Accuracy: 0.557600\n",
      "Epoch 14, CIFAR-10 Batch 2:  Loss:     0.9795 Accuracy: 0.555600\n",
      "Epoch 14, CIFAR-10 Batch 3:  Loss:     0.9988 Accuracy: 0.565000\n",
      "Epoch 14, CIFAR-10 Batch 4:  Loss:     1.0040 Accuracy: 0.563600\n",
      "Epoch 14, CIFAR-10 Batch 5:  Loss:     0.9874 Accuracy: 0.568000\n",
      "Epoch 15, CIFAR-10 Batch 1:  Loss:     1.0449 Accuracy: 0.566200\n",
      "Epoch 15, CIFAR-10 Batch 2:  Loss:     0.9835 Accuracy: 0.570000\n",
      "Epoch 15, CIFAR-10 Batch 3:  Loss:     0.9467 Accuracy: 0.571800\n",
      "Epoch 15, CIFAR-10 Batch 4:  Loss:     1.0139 Accuracy: 0.560000\n",
      "Epoch 15, CIFAR-10 Batch 5:  Loss:     0.9524 Accuracy: 0.571400\n",
      "Epoch 16, CIFAR-10 Batch 1:  Loss:     1.0203 Accuracy: 0.567200\n",
      "Epoch 16, CIFAR-10 Batch 2:  Loss:     0.9682 Accuracy: 0.572200\n",
      "Epoch 16, CIFAR-10 Batch 3:  Loss:     0.9638 Accuracy: 0.561000\n",
      "Epoch 16, CIFAR-10 Batch 4:  Loss:     0.9730 Accuracy: 0.566200\n",
      "Epoch 16, CIFAR-10 Batch 5:  Loss:     0.9437 Accuracy: 0.573200\n",
      "Epoch 17, CIFAR-10 Batch 1:  Loss:     0.9847 Accuracy: 0.580600\n",
      "Epoch 17, CIFAR-10 Batch 2:  Loss:     0.9555 Accuracy: 0.577800\n",
      "Epoch 17, CIFAR-10 Batch 3:  Loss:     0.9158 Accuracy: 0.579200\n",
      "Epoch 17, CIFAR-10 Batch 4:  Loss:     0.9415 Accuracy: 0.578800\n",
      "Epoch 17, CIFAR-10 Batch 5:  Loss:     0.9165 Accuracy: 0.579200\n",
      "Epoch 18, CIFAR-10 Batch 1:  Loss:     0.9351 Accuracy: 0.587400\n",
      "Epoch 18, CIFAR-10 Batch 2:  Loss:     0.9040 Accuracy: 0.588800\n",
      "Epoch 18, CIFAR-10 Batch 3:  Loss:     0.8943 Accuracy: 0.579200\n",
      "Epoch 18, CIFAR-10 Batch 4:  Loss:     0.9076 Accuracy: 0.574200\n",
      "Epoch 18, CIFAR-10 Batch 5:  Loss:     0.8725 Accuracy: 0.584200\n",
      "Epoch 19, CIFAR-10 Batch 1:  Loss:     0.9452 Accuracy: 0.576600\n",
      "Epoch 19, CIFAR-10 Batch 2:  Loss:     0.8983 Accuracy: 0.592800\n",
      "Epoch 19, CIFAR-10 Batch 3:  Loss:     0.8587 Accuracy: 0.590400\n",
      "Epoch 19, CIFAR-10 Batch 4:  Loss:     0.8560 Accuracy: 0.587800\n",
      "Epoch 19, CIFAR-10 Batch 5:  Loss:     0.8789 Accuracy: 0.580800\n",
      "Epoch 20, CIFAR-10 Batch 1:  Loss:     0.9307 Accuracy: 0.584200\n",
      "Epoch 20, CIFAR-10 Batch 2:  Loss:     0.8764 Accuracy: 0.576200\n",
      "Epoch 20, CIFAR-10 Batch 3:  Loss:     0.8302 Accuracy: 0.591400\n",
      "Epoch 20, CIFAR-10 Batch 4:  Loss:     0.8510 Accuracy: 0.593800\n",
      "Epoch 20, CIFAR-10 Batch 5:  Loss:     0.8306 Accuracy: 0.594600\n",
      "Epoch 21, CIFAR-10 Batch 1:  Loss:     0.8932 Accuracy: 0.594600\n",
      "Epoch 21, CIFAR-10 Batch 2:  Loss:     0.8601 Accuracy: 0.585000\n",
      "Epoch 21, CIFAR-10 Batch 3:  Loss:     0.7955 Accuracy: 0.604000\n",
      "Epoch 21, CIFAR-10 Batch 4:  Loss:     0.8311 Accuracy: 0.592400\n",
      "Epoch 21, CIFAR-10 Batch 5:  Loss:     0.7997 Accuracy: 0.598800\n",
      "Epoch 22, CIFAR-10 Batch 1:  Loss:     0.8566 Accuracy: 0.599200\n",
      "Epoch 22, CIFAR-10 Batch 2:  Loss:     0.8354 Accuracy: 0.597200\n",
      "Epoch 22, CIFAR-10 Batch 3:  Loss:     0.8033 Accuracy: 0.598600\n",
      "Epoch 22, CIFAR-10 Batch 4:  Loss:     0.7858 Accuracy: 0.598600\n",
      "Epoch 22, CIFAR-10 Batch 5:  Loss:     0.8106 Accuracy: 0.603000\n",
      "Epoch 23, CIFAR-10 Batch 1:  Loss:     0.8361 Accuracy: 0.599200\n",
      "Epoch 23, CIFAR-10 Batch 2:  Loss:     0.8162 Accuracy: 0.602200\n",
      "Epoch 23, CIFAR-10 Batch 3:  Loss:     0.7690 Accuracy: 0.609400\n",
      "Epoch 23, CIFAR-10 Batch 4:  Loss:     0.7880 Accuracy: 0.597800\n",
      "Epoch 23, CIFAR-10 Batch 5:  Loss:     0.7936 Accuracy: 0.607200\n",
      "Epoch 24, CIFAR-10 Batch 1:  Loss:     0.8118 Accuracy: 0.608600\n",
      "Epoch 24, CIFAR-10 Batch 2:  Loss:     0.8196 Accuracy: 0.599000\n",
      "Epoch 24, CIFAR-10 Batch 3:  Loss:     0.7894 Accuracy: 0.602800\n",
      "Epoch 24, CIFAR-10 Batch 4:  Loss:     0.7891 Accuracy: 0.584400\n",
      "Epoch 24, CIFAR-10 Batch 5:  Loss:     0.7802 Accuracy: 0.606200\n",
      "Epoch 25, CIFAR-10 Batch 1:  Loss:     0.7837 Accuracy: 0.602800\n",
      "Epoch 25, CIFAR-10 Batch 2:  Loss:     0.7851 Accuracy: 0.604800\n",
      "Epoch 25, CIFAR-10 Batch 3:  Loss:     0.7529 Accuracy: 0.611400\n",
      "Epoch 25, CIFAR-10 Batch 4:  Loss:     0.7500 Accuracy: 0.602400\n",
      "Epoch 25, CIFAR-10 Batch 5:  Loss:     0.7682 Accuracy: 0.614000\n",
      "Epoch 26, CIFAR-10 Batch 1:  Loss:     0.7761 Accuracy: 0.606200\n"
     ]
    },
    {
     "name": "stdout",
     "output_type": "stream",
     "text": [
      "Epoch 26, CIFAR-10 Batch 2:  Loss:     0.7810 Accuracy: 0.604400\n",
      "Epoch 26, CIFAR-10 Batch 3:  Loss:     0.7515 Accuracy: 0.609000\n",
      "Epoch 26, CIFAR-10 Batch 4:  Loss:     0.7168 Accuracy: 0.602000\n",
      "Epoch 26, CIFAR-10 Batch 5:  Loss:     0.7394 Accuracy: 0.608600\n",
      "Epoch 27, CIFAR-10 Batch 1:  Loss:     0.7816 Accuracy: 0.605400\n",
      "Epoch 27, CIFAR-10 Batch 2:  Loss:     0.7838 Accuracy: 0.605000\n",
      "Epoch 27, CIFAR-10 Batch 3:  Loss:     0.7406 Accuracy: 0.593800\n",
      "Epoch 27, CIFAR-10 Batch 4:  Loss:     0.7936 Accuracy: 0.597200\n",
      "Epoch 27, CIFAR-10 Batch 5:  Loss:     0.7150 Accuracy: 0.613000\n",
      "Epoch 28, CIFAR-10 Batch 1:  Loss:     0.7622 Accuracy: 0.606000\n",
      "Epoch 28, CIFAR-10 Batch 2:  Loss:     0.7696 Accuracy: 0.591400\n",
      "Epoch 28, CIFAR-10 Batch 3:  Loss:     0.7828 Accuracy: 0.586800\n",
      "Epoch 28, CIFAR-10 Batch 4:  Loss:     0.7605 Accuracy: 0.599400\n",
      "Epoch 28, CIFAR-10 Batch 5:  Loss:     0.6908 Accuracy: 0.611400\n",
      "Epoch 29, CIFAR-10 Batch 1:  Loss:     0.7815 Accuracy: 0.604600\n",
      "Epoch 29, CIFAR-10 Batch 2:  Loss:     0.7637 Accuracy: 0.589800\n",
      "Epoch 29, CIFAR-10 Batch 3:  Loss:     0.7935 Accuracy: 0.589800\n",
      "Epoch 29, CIFAR-10 Batch 4:  Loss:     0.7181 Accuracy: 0.615400\n",
      "Epoch 29, CIFAR-10 Batch 5:  Loss:     0.6968 Accuracy: 0.613400\n",
      "Epoch 30, CIFAR-10 Batch 1:  Loss:     0.7610 Accuracy: 0.603000\n",
      "Epoch 30, CIFAR-10 Batch 2:  Loss:     0.7454 Accuracy: 0.585000\n",
      "Epoch 30, CIFAR-10 Batch 3:  Loss:     0.7158 Accuracy: 0.611000\n",
      "Epoch 30, CIFAR-10 Batch 4:  Loss:     0.6855 Accuracy: 0.626600\n",
      "Epoch 30, CIFAR-10 Batch 5:  Loss:     0.6851 Accuracy: 0.614400\n",
      "Epoch 31, CIFAR-10 Batch 1:  Loss:     0.7231 Accuracy: 0.610800\n",
      "Epoch 31, CIFAR-10 Batch 2:  Loss:     0.7947 Accuracy: 0.573000\n",
      "Epoch 31, CIFAR-10 Batch 3:  Loss:     0.7081 Accuracy: 0.616800\n",
      "Epoch 31, CIFAR-10 Batch 4:  Loss:     0.6870 Accuracy: 0.617600\n",
      "Epoch 31, CIFAR-10 Batch 5:  Loss:     0.6732 Accuracy: 0.615200\n",
      "Epoch 32, CIFAR-10 Batch 1:  Loss:     0.6899 Accuracy: 0.607400\n",
      "Epoch 32, CIFAR-10 Batch 2:  Loss:     0.7552 Accuracy: 0.579000\n",
      "Epoch 32, CIFAR-10 Batch 3:  Loss:     0.6858 Accuracy: 0.610800\n",
      "Epoch 32, CIFAR-10 Batch 4:  Loss:     0.6623 Accuracy: 0.620800\n",
      "Epoch 32, CIFAR-10 Batch 5:  Loss:     0.6571 Accuracy: 0.621600\n",
      "Epoch 33, CIFAR-10 Batch 1:  Loss:     0.6904 Accuracy: 0.615000\n",
      "Epoch 33, CIFAR-10 Batch 2:  Loss:     0.7232 Accuracy: 0.586800\n",
      "Epoch 33, CIFAR-10 Batch 3:  Loss:     0.6923 Accuracy: 0.616000\n",
      "Epoch 33, CIFAR-10 Batch 4:  Loss:     0.6490 Accuracy: 0.620800\n",
      "Epoch 33, CIFAR-10 Batch 5:  Loss:     0.6389 Accuracy: 0.625400\n",
      "Epoch 34, CIFAR-10 Batch 1:  Loss:     0.6731 Accuracy: 0.612600\n",
      "Epoch 34, CIFAR-10 Batch 2:  Loss:     0.6747 Accuracy: 0.587400\n",
      "Epoch 34, CIFAR-10 Batch 3:  Loss:     0.6538 Accuracy: 0.602200\n",
      "Epoch 34, CIFAR-10 Batch 4:  Loss:     0.6364 Accuracy: 0.620200\n",
      "Epoch 34, CIFAR-10 Batch 5:  Loss:     0.6330 Accuracy: 0.619200\n",
      "Epoch 35, CIFAR-10 Batch 1:  Loss:     0.6643 Accuracy: 0.615800\n",
      "Epoch 35, CIFAR-10 Batch 2:  Loss:     0.6506 Accuracy: 0.602400\n",
      "Epoch 35, CIFAR-10 Batch 3:  Loss:     0.6188 Accuracy: 0.620000\n",
      "Epoch 35, CIFAR-10 Batch 4:  Loss:     0.6320 Accuracy: 0.613600\n",
      "Epoch 35, CIFAR-10 Batch 5:  Loss:     0.6269 Accuracy: 0.628000\n",
      "Epoch 36, CIFAR-10 Batch 1:  Loss:     0.6438 Accuracy: 0.624000\n",
      "Epoch 36, CIFAR-10 Batch 2:  Loss:     0.6399 Accuracy: 0.604800\n",
      "Epoch 36, CIFAR-10 Batch 3:  Loss:     0.5949 Accuracy: 0.621400\n",
      "Epoch 36, CIFAR-10 Batch 4:  Loss:     0.6294 Accuracy: 0.624600\n",
      "Epoch 36, CIFAR-10 Batch 5:  Loss:     0.5902 Accuracy: 0.624400\n",
      "Epoch 37, CIFAR-10 Batch 1:  Loss:     0.6243 Accuracy: 0.614400\n",
      "Epoch 37, CIFAR-10 Batch 2:  Loss:     0.6298 Accuracy: 0.600000\n",
      "Epoch 37, CIFAR-10 Batch 3:  Loss:     0.5921 Accuracy: 0.626200\n",
      "Epoch 37, CIFAR-10 Batch 4:  Loss:     0.5705 Accuracy: 0.630000\n",
      "Epoch 37, CIFAR-10 Batch 5:  Loss:     0.5625 Accuracy: 0.627800\n",
      "Epoch 38, CIFAR-10 Batch 1:  Loss:     0.6061 Accuracy: 0.614800\n",
      "Epoch 38, CIFAR-10 Batch 2:  Loss:     0.6341 Accuracy: 0.585800\n",
      "Epoch 38, CIFAR-10 Batch 3:  Loss:     0.5583 Accuracy: 0.620000\n",
      "Epoch 38, CIFAR-10 Batch 4:  Loss:     0.5461 Accuracy: 0.633000\n",
      "Epoch 38, CIFAR-10 Batch 5:  Loss:     0.5839 Accuracy: 0.617400\n",
      "Epoch 39, CIFAR-10 Batch 1:  Loss:     0.5898 Accuracy: 0.614400\n",
      "Epoch 39, CIFAR-10 Batch 2:  Loss:     0.6363 Accuracy: 0.601800\n",
      "Epoch 39, CIFAR-10 Batch 3:  Loss:     0.5740 Accuracy: 0.619600\n",
      "Epoch 39, CIFAR-10 Batch 4:  Loss:     0.5308 Accuracy: 0.621600\n",
      "Epoch 39, CIFAR-10 Batch 5:  Loss:     0.5461 Accuracy: 0.628000\n",
      "Epoch 40, CIFAR-10 Batch 1:  Loss:     0.6051 Accuracy: 0.608000\n",
      "Epoch 40, CIFAR-10 Batch 2:  Loss:     0.5873 Accuracy: 0.599000\n",
      "Epoch 40, CIFAR-10 Batch 3:  Loss:     0.5918 Accuracy: 0.609400\n",
      "Epoch 40, CIFAR-10 Batch 4:  Loss:     0.5483 Accuracy: 0.614800\n",
      "Epoch 40, CIFAR-10 Batch 5:  Loss:     0.5683 Accuracy: 0.630200\n",
      "Epoch 41, CIFAR-10 Batch 1:  Loss:     0.6060 Accuracy: 0.610400\n",
      "Epoch 41, CIFAR-10 Batch 2:  Loss:     0.5634 Accuracy: 0.616600\n",
      "Epoch 41, CIFAR-10 Batch 3:  Loss:     0.5715 Accuracy: 0.609200\n",
      "Epoch 41, CIFAR-10 Batch 4:  Loss:     0.5724 Accuracy: 0.616600\n",
      "Epoch 41, CIFAR-10 Batch 5:  Loss:     0.5376 Accuracy: 0.629800\n",
      "Epoch 42, CIFAR-10 Batch 1:  Loss:     0.6433 Accuracy: 0.591400\n",
      "Epoch 42, CIFAR-10 Batch 2:  Loss:     0.6230 Accuracy: 0.623800\n",
      "Epoch 42, CIFAR-10 Batch 3:  Loss:     0.6465 Accuracy: 0.594400\n",
      "Epoch 42, CIFAR-10 Batch 4:  Loss:     0.5370 Accuracy: 0.616600\n",
      "Epoch 42, CIFAR-10 Batch 5:  Loss:     0.5507 Accuracy: 0.622000\n",
      "Epoch 43, CIFAR-10 Batch 1:  Loss:     0.5948 Accuracy: 0.608400\n",
      "Epoch 43, CIFAR-10 Batch 2:  Loss:     0.6045 Accuracy: 0.625400\n",
      "Epoch 43, CIFAR-10 Batch 3:  Loss:     0.5546 Accuracy: 0.613800\n",
      "Epoch 43, CIFAR-10 Batch 4:  Loss:     0.5027 Accuracy: 0.616800\n",
      "Epoch 43, CIFAR-10 Batch 5:  Loss:     0.5190 Accuracy: 0.629400\n",
      "Epoch 44, CIFAR-10 Batch 1:  Loss:     0.5454 Accuracy: 0.604600\n",
      "Epoch 44, CIFAR-10 Batch 2:  Loss:     0.5719 Accuracy: 0.627000\n",
      "Epoch 44, CIFAR-10 Batch 3:  Loss:     0.5276 Accuracy: 0.613600\n",
      "Epoch 44, CIFAR-10 Batch 4:  Loss:     0.5045 Accuracy: 0.616600\n",
      "Epoch 44, CIFAR-10 Batch 5:  Loss:     0.5118 Accuracy: 0.618600\n",
      "Epoch 45, CIFAR-10 Batch 1:  Loss:     0.5625 Accuracy: 0.617200\n",
      "Epoch 45, CIFAR-10 Batch 2:  Loss:     0.6059 Accuracy: 0.621800\n",
      "Epoch 45, CIFAR-10 Batch 3:  Loss:     0.4999 Accuracy: 0.612400\n",
      "Epoch 45, CIFAR-10 Batch 4:  Loss:     0.5040 Accuracy: 0.623000\n",
      "Epoch 45, CIFAR-10 Batch 5:  Loss:     0.5057 Accuracy: 0.623800\n",
      "Epoch 46, CIFAR-10 Batch 1:  Loss:     0.5416 Accuracy: 0.614600\n",
      "Epoch 46, CIFAR-10 Batch 2:  Loss:     0.5596 Accuracy: 0.621800\n",
      "Epoch 46, CIFAR-10 Batch 3:  Loss:     0.4920 Accuracy: 0.626800\n",
      "Epoch 46, CIFAR-10 Batch 4:  Loss:     0.4560 Accuracy: 0.627200\n",
      "Epoch 46, CIFAR-10 Batch 5:  Loss:     0.4675 Accuracy: 0.626400\n",
      "Epoch 47, CIFAR-10 Batch 1:  Loss:     0.5083 Accuracy: 0.627000\n",
      "Epoch 47, CIFAR-10 Batch 2:  Loss:     0.5328 Accuracy: 0.624200\n",
      "Epoch 47, CIFAR-10 Batch 3:  Loss:     0.4613 Accuracy: 0.627000\n",
      "Epoch 47, CIFAR-10 Batch 4:  Loss:     0.4546 Accuracy: 0.628800\n",
      "Epoch 47, CIFAR-10 Batch 5:  Loss:     0.4462 Accuracy: 0.633400\n",
      "Epoch 48, CIFAR-10 Batch 1:  Loss:     0.4971 Accuracy: 0.622600\n",
      "Epoch 48, CIFAR-10 Batch 2:  Loss:     0.5189 Accuracy: 0.627200\n",
      "Epoch 48, CIFAR-10 Batch 3:  Loss:     0.4633 Accuracy: 0.622800\n",
      "Epoch 48, CIFAR-10 Batch 4:  Loss:     0.4229 Accuracy: 0.625000\n",
      "Epoch 48, CIFAR-10 Batch 5:  Loss:     0.4576 Accuracy: 0.620800\n",
      "Epoch 49, CIFAR-10 Batch 1:  Loss:     0.4906 Accuracy: 0.623200\n",
      "Epoch 49, CIFAR-10 Batch 2:  Loss:     0.4849 Accuracy: 0.621000\n",
      "Epoch 49, CIFAR-10 Batch 3:  Loss:     0.4348 Accuracy: 0.624800\n",
      "Epoch 49, CIFAR-10 Batch 4:  Loss:     0.4237 Accuracy: 0.628200\n",
      "Epoch 49, CIFAR-10 Batch 5:  Loss:     0.4316 Accuracy: 0.631800\n",
      "Epoch 50, CIFAR-10 Batch 1:  Loss:     0.4680 Accuracy: 0.621400\n",
      "Epoch 50, CIFAR-10 Batch 2:  Loss:     0.4718 Accuracy: 0.615600\n",
      "Epoch 50, CIFAR-10 Batch 3:  Loss:     0.4235 Accuracy: 0.631600\n",
      "Epoch 50, CIFAR-10 Batch 4:  Loss:     0.4142 Accuracy: 0.639400\n",
      "Epoch 50, CIFAR-10 Batch 5:  Loss:     0.4546 Accuracy: 0.628000\n"
     ]
    }
   ],
   "source": [
    "\"\"\"\n",
    "DON'T MODIFY ANYTHING IN THIS CELL\n",
    "\"\"\"\n",
    "save_model_path = './image_classification'\n",
    "\n",
    "print('Training...')\n",
    "with tf.Session() as sess:\n",
    "    # Initializing the variables\n",
    "    sess.run(tf.global_variables_initializer())\n",
    "    \n",
    "    # Training cycle\n",
    "    for epoch in range(epochs):\n",
    "        # Loop over all batches\n",
    "        n_batches = 5\n",
    "        for batch_i in range(1, n_batches + 1):\n",
    "            for batch_features, batch_labels in helper.load_preprocess_training_batch(batch_i, batch_size):\n",
    "                train_neural_network(sess, optimizer, keep_probability, batch_features, batch_labels)\n",
    "            print('Epoch {:>2}, CIFAR-10 Batch {}:  '.format(epoch + 1, batch_i), end='')\n",
    "            print_stats(sess, batch_features, batch_labels, cost, accuracy)\n",
    "            \n",
    "    # Save Model\n",
    "    saver = tf.train.Saver()\n",
    "    save_path = saver.save(sess, save_model_path)"
   ]
  },
  {
   "cell_type": "markdown",
   "metadata": {},
   "source": [
    "# Checkpoint\n",
    "The model has been saved to disk.\n",
    "## Test Model\n",
    "Test your model against the test dataset.  This will be your final accuracy. You should have an accuracy greater than 50%. If you don't, keep tweaking the model architecture and parameters."
   ]
  },
  {
   "cell_type": "code",
   "execution_count": 20,
   "metadata": {},
   "outputs": [
    {
     "name": "stdout",
     "output_type": "stream",
     "text": [
      "INFO:tensorflow:Restoring parameters from ./image_classification\n",
      "Testing Accuracy: 0.6238108932971954\n",
      "\n"
     ]
    },
    {
     "data": {
      "image/png": "[encoded data removed]",
      "text/plain": [
       "<matplotlib.figure.Figure at 0x7ff2a47e1f98>"
      ]
     },
     "metadata": {
      "image/png": {
       "height": 319,
       "width": 355
      }
     },
     "output_type": "display_data"
    }
   ],
   "source": [
    "\"\"\"\n",
    "DON'T MODIFY ANYTHING IN THIS CELL\n",
    "\"\"\"\n",
    "%matplotlib inline\n",
    "%config InlineBackend.figure_format = 'retina'\n",
    "\n",
    "import tensorflow as tf\n",
    "import pickle\n",
    "import helper\n",
    "import random\n",
    "\n",
    "# Set batch size if not already set\n",
    "try:\n",
    "    if batch_size:\n",
    "        pass\n",
    "except NameError:\n",
    "    batch_size = 64\n",
    "\n",
    "save_model_path = './image_classification'\n",
    "n_samples = 4\n",
    "top_n_predictions = 3\n",
    "\n",
    "def test_model():\n",
    "    \"\"\"\n",
    "    Test the saved model against the test dataset\n",
    "    \"\"\"\n",
    "\n",
    "    test_features, test_labels = pickle.load(open('preprocess_test.p', mode='rb'))\n",
    "    loaded_graph = tf.Graph()\n",
    "\n",
    "    with tf.Session(graph=loaded_graph) as sess:\n",
    "        # Load model\n",
    "        loader = tf.train.import_meta_graph(save_model_path + '.meta')\n",
    "        loader.restore(sess, save_model_path)\n",
    "\n",
    "        # Get Tensors from loaded model\n",
    "        loaded_x = loaded_graph.get_tensor_by_name('x:0')\n",
    "        loaded_y = loaded_graph.get_tensor_by_name('y:0')\n",
    "        loaded_keep_prob = loaded_graph.get_tensor_by_name('keep_prob:0')\n",
    "        loaded_logits = loaded_graph.get_tensor_by_name('logits:0')\n",
    "        loaded_acc = loaded_graph.get_tensor_by_name('accuracy:0')\n",
    "        \n",
    "        # Get accuracy in batches for memory limitations\n",
    "        test_batch_acc_total = 0\n",
    "        test_batch_count = 0\n",
    "        \n",
    "        for test_feature_batch, test_label_batch in helper.batch_features_labels(test_features, test_labels, batch_size):\n",
    "            test_batch_acc_total += sess.run(\n",
    "                loaded_acc,\n",
    "                feed_dict={loaded_x: test_feature_batch, loaded_y: test_label_batch, loaded_keep_prob: 1.0})\n",
    "            test_batch_count += 1\n",
    "\n",
    "        print('Testing Accuracy: {}\\n'.format(test_batch_acc_total/test_batch_count))\n",
    "\n",
    "        # Print Random Samples\n",
    "        random_test_features, random_test_labels = tuple(zip(*random.sample(list(zip(test_features, test_labels)), n_samples)))\n",
    "        random_test_predictions = sess.run(\n",
    "            tf.nn.top_k(tf.nn.softmax(loaded_logits), top_n_predictions),\n",
    "            feed_dict={loaded_x: random_test_features, loaded_y: random_test_labels, loaded_keep_prob: 1.0})\n",
    "        helper.display_image_predictions(random_test_features, random_test_labels, random_test_predictions)\n",
    "\n",
    "\n",
    "test_model()"
   ]
  },
  {
   "cell_type": "markdown",
   "metadata": {},
   "source": [
    "## Why 50-80% Accuracy?\n",
    "You might be wondering why you can't get an accuracy any higher. First things first, 50% isn't bad for a simple CNN.  Pure guessing would get you 10% accuracy. However, you might notice people are getting scores [well above 80%](http://rodrigob.github.io/are_we_there_yet/build/classification_datasets_results.html#43494641522d3130).  That's because we haven't taught you all there is to know about neural networks. We still need to cover a few more techniques.\n",
    "## Submitting This Project\n",
    "When submitting this project, make sure to run all the cells before saving the notebook.  Save the notebook file as \"dlnd_image_classification.ipynb\" and save it as a HTML file under \"File\" -> \"Download as\".  Include the \"helper.py\" and \"problem_unittests.py\" files in your submission."
   ]
  }
 ],
 "metadata": {
  "kernelspec": {
   "display_name": "Python 3",
   "language": "python",
   "name": "python3"
  },
  "language_info": {
   "codemirror_mode": {
    "name": "ipython",
    "version": 3
   },
   "file_extension": ".py",
   "mimetype": "text/x-python",
   "name": "python",
   "nbconvert_exporter": "python",
   "pygments_lexer": "ipython3",
   "version": "3.5.3"
  }
 },
 "nbformat": 4,
 "nbformat_minor": 1
}
